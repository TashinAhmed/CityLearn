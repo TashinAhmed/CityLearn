{
 "cells": [
  {
   "attachments": {},
   "cell_type": "markdown",
   "metadata": {},
   "source": [
    "<a href=\"https://colab.research.google.com/github/intelligent-environments-lab/CityLearn/blob/master/examples/cli.ipynb\" target=\"_parent\"><img src=\"https://colab.research.google.com/assets/colab-badge.svg\" alt=\"Open In Colab\"/></a>"
   ]
  },
  {
   "attachments": {},
   "cell_type": "markdown",
   "metadata": {},
   "source": [
    "# CLI\n",
    "\n",
    "Install the latest CityLearn version from PyPi with the `pip` command:"
   ]
  },
  {
   "cell_type": "code",
   "execution_count": null,
   "metadata": {
    "vscode": {
     "languageId": "shellscript"
    }
   },
   "outputs": [],
   "source": [
    "pip install CityLearn==2.0b2"
   ]
  },
  {
   "attachments": {},
   "cell_type": "markdown",
   "metadata": {},
   "source": [
    "The CityLearn installation comes with a CLI for running simulations. The CLI is useful for use cases where multiple environment-agent setups that have been defined in schemas need to be submitted as 1 job for parallel running e.g. in an HPC.\n",
    "\n",
    "The CLI documentation is returned by executing the following in a Shell Terminal of Powershell:"
   ]
  },
  {
   "cell_type": "code",
   "execution_count": 8,
   "metadata": {
    "vscode": {
     "languageId": "shellscript"
    }
   },
   "outputs": [
    {
     "name": "stdout",
     "output_type": "stream",
     "text": [
      "usage: citylearn [-h] [--version] {learn} ...\n",
      "\n",
      "An open source OpenAI Gym environment for the implementation of Multi-Agent\n",
      "Reinforcement Learning (RL) for building energy coordination and demand\n",
      "response in cities.\n",
      "\n",
      "optional arguments:\n",
      "  -h, --help  show this help message and exit\n",
      "  --version   show program's version number and exit\n",
      "\n",
      "subcommands:\n",
      "  {learn}\n"
     ]
    }
   ],
   "source": [
    "%%sh\n",
    "python -m citylearn -h"
   ]
  },
  {
   "attachments": {},
   "cell_type": "markdown",
   "metadata": {},
   "source": [
    "## Running a Simulation using the CLI\n",
    "\n",
    "The `learn` command is used to run simulations and it has one positional argument, `schema` that is a named dataset or path to a schema. Other arguments are optional and have default values. The completed simulation is saved to a pickled object in a file that is specified by the optional argument `-f`. The `-k` argument is a flag to indicate that a list of the environment state at the end of each episode be saved as well. The `-l` argument is an integer that specifies the logging level. The output log includes action and reward values at each time step."
   ]
  },
  {
   "cell_type": "code",
   "execution_count": 9,
   "metadata": {
    "vscode": {
     "languageId": "shellscript"
    }
   },
   "outputs": [
    {
     "name": "stdout",
     "output_type": "stream",
     "text": [
      "usage: citylearn learn [-h] [-e EPISODES] [-f FILEPATH] [-k]\n",
      "                       [-d ENV_HISTORY_DIRECTORY] [-n] [-l LOGGING_LEVEL]\n",
      "                       schema\n",
      "\n",
      "Run simulation.\n",
      "\n",
      "positional arguments:\n",
      "  schema                CityLearn dataset name or schema path.\n",
      "\n",
      "optional arguments:\n",
      "  -h, --help            show this help message and exit\n",
      "  -e EPISODES, --episodes EPISODES\n",
      "                        Number of training episodes. (default: None)\n",
      "  -f FILEPATH, --filepath FILEPATH\n",
      "                        Filepath to write simulation pickle object to upon\n",
      "                        completion. (default: citylearn_learning.pkl)\n",
      "  -k, --keep_env_history\n",
      "                        Indicator to store environment state at the end of\n",
      "                        each episode. (default: False)\n",
      "  -d ENV_HISTORY_DIRECTORY, --env_history_directory ENV_HISTORY_DIRECTORY\n",
      "                        Directory to save environment history to. (default:\n",
      "                        None)\n",
      "  -n, --deterministic_finish\n",
      "                        Take deterministic actions in the final episode.\n",
      "                        (default: False)\n",
      "  -l LOGGING_LEVEL, --logging_level LOGGING_LEVEL\n",
      "                        Logging level where increasing the level silences\n",
      "                        lower level information. (default: 50)\n"
     ]
    }
   ],
   "source": [
    "%%sh\n",
    "python -m citylearn learn -h"
   ]
  },
  {
   "attachments": {},
   "cell_type": "markdown",
   "metadata": {},
   "source": [
    "The example below runs a simulation using the `citylearn_challenge_2022_phase_1` dataset at a logging level of 100 and is set to store the environment history."
   ]
  },
  {
   "cell_type": "code",
   "execution_count": 10,
   "metadata": {
    "vscode": {
     "languageId": "shellscript"
    }
   },
   "outputs": [],
   "source": [
    "%%sh\n",
    "python -m citylearn learn citylearn_challenge_2022_phase_1 -k -l 100 -e 1"
   ]
  },
  {
   "attachments": {},
   "cell_type": "markdown",
   "metadata": {},
   "source": [
    "## Reading a Saved Simulation\n",
    "\n",
    "After a CLI simulation completes, the pickled object can be read into memory and its `env` property can be utilized as would the `env` from a simulation that was run in a python script:"
   ]
  },
  {
   "cell_type": "code",
   "execution_count": 17,
   "metadata": {},
   "outputs": [
    {
     "data": {
      "text/html": [
       "<div>\n",
       "<style scoped>\n",
       "    .dataframe tbody tr th:only-of-type {\n",
       "        vertical-align: middle;\n",
       "    }\n",
       "\n",
       "    .dataframe tbody tr th {\n",
       "        vertical-align: top;\n",
       "    }\n",
       "\n",
       "    .dataframe thead th {\n",
       "        text-align: right;\n",
       "    }\n",
       "</style>\n",
       "<table border=\"1\" class=\"dataframe\">\n",
       "  <thead>\n",
       "    <tr style=\"text-align: right;\">\n",
       "      <th>name</th>\n",
       "      <th>Building_1</th>\n",
       "      <th>Building_2</th>\n",
       "      <th>Building_3</th>\n",
       "      <th>Building_4</th>\n",
       "      <th>Building_5</th>\n",
       "      <th>District</th>\n",
       "    </tr>\n",
       "    <tr>\n",
       "      <th>cost_function</th>\n",
       "      <th></th>\n",
       "      <th></th>\n",
       "      <th></th>\n",
       "      <th></th>\n",
       "      <th></th>\n",
       "      <th></th>\n",
       "    </tr>\n",
       "  </thead>\n",
       "  <tbody>\n",
       "    <tr>\n",
       "      <th>annual_peak_average</th>\n",
       "      <td>NaN</td>\n",
       "      <td>NaN</td>\n",
       "      <td>NaN</td>\n",
       "      <td>NaN</td>\n",
       "      <td>NaN</td>\n",
       "      <td>1.051783</td>\n",
       "    </tr>\n",
       "    <tr>\n",
       "      <th>carbon_emissions_total</th>\n",
       "      <td>1.133795</td>\n",
       "      <td>1.157876</td>\n",
       "      <td>1.272483</td>\n",
       "      <td>1.181342</td>\n",
       "      <td>1.185891</td>\n",
       "      <td>1.186277</td>\n",
       "    </tr>\n",
       "    <tr>\n",
       "      <th>cost_total</th>\n",
       "      <td>1.043202</td>\n",
       "      <td>1.063490</td>\n",
       "      <td>1.145188</td>\n",
       "      <td>1.097198</td>\n",
       "      <td>1.074609</td>\n",
       "      <td>1.084738</td>\n",
       "    </tr>\n",
       "    <tr>\n",
       "      <th>daily_peak_average</th>\n",
       "      <td>NaN</td>\n",
       "      <td>NaN</td>\n",
       "      <td>NaN</td>\n",
       "      <td>NaN</td>\n",
       "      <td>NaN</td>\n",
       "      <td>1.149743</td>\n",
       "    </tr>\n",
       "    <tr>\n",
       "      <th>discomfort_delta_average</th>\n",
       "      <td>0.000000</td>\n",
       "      <td>0.000000</td>\n",
       "      <td>0.000000</td>\n",
       "      <td>0.000000</td>\n",
       "      <td>0.000000</td>\n",
       "      <td>0.000000</td>\n",
       "    </tr>\n",
       "    <tr>\n",
       "      <th>discomfort_delta_maximum</th>\n",
       "      <td>0.000000</td>\n",
       "      <td>0.000000</td>\n",
       "      <td>0.000000</td>\n",
       "      <td>0.000000</td>\n",
       "      <td>0.000000</td>\n",
       "      <td>0.000000</td>\n",
       "    </tr>\n",
       "    <tr>\n",
       "      <th>discomfort_delta_minimum</th>\n",
       "      <td>0.000000</td>\n",
       "      <td>0.000000</td>\n",
       "      <td>0.000000</td>\n",
       "      <td>0.000000</td>\n",
       "      <td>0.000000</td>\n",
       "      <td>0.000000</td>\n",
       "    </tr>\n",
       "    <tr>\n",
       "      <th>electricity_consumption_total</th>\n",
       "      <td>1.184364</td>\n",
       "      <td>1.214805</td>\n",
       "      <td>1.346096</td>\n",
       "      <td>1.236717</td>\n",
       "      <td>1.262303</td>\n",
       "      <td>1.248857</td>\n",
       "    </tr>\n",
       "    <tr>\n",
       "      <th>one_minus_load_factor_average</th>\n",
       "      <td>NaN</td>\n",
       "      <td>NaN</td>\n",
       "      <td>NaN</td>\n",
       "      <td>NaN</td>\n",
       "      <td>NaN</td>\n",
       "      <td>0.987430</td>\n",
       "    </tr>\n",
       "    <tr>\n",
       "      <th>ramping_average</th>\n",
       "      <td>NaN</td>\n",
       "      <td>NaN</td>\n",
       "      <td>NaN</td>\n",
       "      <td>NaN</td>\n",
       "      <td>NaN</td>\n",
       "      <td>1.162248</td>\n",
       "    </tr>\n",
       "    <tr>\n",
       "      <th>zero_net_energy</th>\n",
       "      <td>1.117844</td>\n",
       "      <td>1.101070</td>\n",
       "      <td>1.293734</td>\n",
       "      <td>1.084827</td>\n",
       "      <td>1.144977</td>\n",
       "      <td>1.148490</td>\n",
       "    </tr>\n",
       "  </tbody>\n",
       "</table>\n",
       "</div>"
      ],
      "text/plain": [
       "name                           Building_1  Building_2  Building_3  Building_4  \\\n",
       "cost_function                                                                   \n",
       "annual_peak_average                   NaN         NaN         NaN         NaN   \n",
       "carbon_emissions_total           1.133795    1.157876    1.272483    1.181342   \n",
       "cost_total                       1.043202    1.063490    1.145188    1.097198   \n",
       "daily_peak_average                    NaN         NaN         NaN         NaN   \n",
       "discomfort_delta_average         0.000000    0.000000    0.000000    0.000000   \n",
       "discomfort_delta_maximum         0.000000    0.000000    0.000000    0.000000   \n",
       "discomfort_delta_minimum         0.000000    0.000000    0.000000    0.000000   \n",
       "electricity_consumption_total    1.184364    1.214805    1.346096    1.236717   \n",
       "one_minus_load_factor_average         NaN         NaN         NaN         NaN   \n",
       "ramping_average                       NaN         NaN         NaN         NaN   \n",
       "zero_net_energy                  1.117844    1.101070    1.293734    1.084827   \n",
       "\n",
       "name                           Building_5  District  \n",
       "cost_function                                        \n",
       "annual_peak_average                   NaN  1.051783  \n",
       "carbon_emissions_total           1.185891  1.186277  \n",
       "cost_total                       1.074609  1.084738  \n",
       "daily_peak_average                    NaN  1.149743  \n",
       "discomfort_delta_average         0.000000  0.000000  \n",
       "discomfort_delta_maximum         0.000000  0.000000  \n",
       "discomfort_delta_minimum         0.000000  0.000000  \n",
       "electricity_consumption_total    1.262303  1.248857  \n",
       "one_minus_load_factor_average         NaN  0.987430  \n",
       "ramping_average                       NaN  1.162248  \n",
       "zero_net_energy                  1.144977  1.148490  "
      ]
     },
     "metadata": {},
     "output_type": "display_data"
    }
   ],
   "source": [
    "import pickle\n",
    "\n",
    "filepath = 'citylearn_learning.pkl'\n",
    "\n",
    "with (open(filepath, 'rb')) as f:\n",
    "        model = pickle.load(f)\n",
    "\n",
    "kpis = model.env.evaluate().pivot(index='cost_function', columns='name', values='value')\n",
    "kpis = kpis.dropna(how='all')\n",
    "display(kpis)"
   ]
  }
 ],
 "metadata": {
  "kernelspec": {
   "display_name": "test_env",
   "language": "python",
   "name": "python3"
  },
  "language_info": {
   "codemirror_mode": {
    "name": "ipython",
    "version": 3
   },
   "file_extension": ".py",
   "mimetype": "text/x-python",
   "name": "python",
   "nbconvert_exporter": "python",
   "pygments_lexer": "ipython3",
   "version": "3.7.7"
  },
  "vscode": {
   "interpreter": {
    "hash": "24d13602916ce501dab33551801634a98323f75b1378db411e4ca12af6dc15d7"
   }
  }
 },
 "nbformat": 4,
 "nbformat_minor": 2
}
